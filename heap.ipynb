{
 "cells": [
  {
   "cell_type": "code",
   "execution_count": 35,
   "metadata": {},
   "outputs": [],
   "source": [
    "class myheap:\n",
    "    def __init__(self, nums):\n",
    "        self.data = nums\n",
    "        self._build_heap()\n",
    "    \n",
    "    def _build_heap(self):\n",
    "        for i in range(len(self.data)-1, -1, -1):\n",
    "            self.sink_down(i)\n",
    "            \n",
    "    def get_top(self):\n",
    "        return self.data[0]\n",
    "    \n",
    "    def get_parent(self, i):\n",
    "        return (i-1)//2\n",
    "\n",
    "    def get_left_child(self, i):\n",
    "        return 2*i + 1\n",
    "\n",
    "    def get_right_child(self, i):\n",
    "        return 2*(i+1)\n",
    "    \n",
    "    def swap(self, i, j):\n",
    "        self.data[i], self.data[j] = self.data[j], self.data[i]\n",
    "    \n",
    "    def swin_up(self, i):\n",
    "        while True:\n",
    "            p = self.get_parent(i)\n",
    "            print(f\"parent = {p}\")\n",
    "            if p <0 or self.data[p] >= self.data[i]:\n",
    "                break\n",
    "            self.swap(i, p)\n",
    "            i = p\n",
    "    \n",
    "    def sink_down(self, i):\n",
    "        while True:\n",
    "            c_l = self.get_left_child(i)\n",
    "            c_r = self.get_right_child(i)\n",
    "            max_c = i\n",
    "            if c_l < len(self.data) and self.data[c_l] > self.data[max_c]:\n",
    "                max_c = c_l\n",
    "            if c_r < len(self.data) and self.data[c_r] > self.data[max_c]:\n",
    "                max_c = c_r\n",
    "\n",
    "            if i>=len(self.data) or i == max_c:\n",
    "                break\n",
    "\n",
    "            self.swap(i, max_c)\n",
    "            i = max_c\n",
    "    \n",
    "    def push(self, val):\n",
    "        self.data.append(val)\n",
    "        self.swin_up(len(self.data)-1)\n",
    "    \n",
    "    def pop(self):\n",
    "        self.swap(0, len(self.data)-1)\n",
    "        val = self.data[-1]\n",
    "        self.data = self.data[:-1]\n",
    "        self.sink_down(0)\n",
    "        return val"
   ]
  },
  {
   "cell_type": "code",
   "execution_count": 36,
   "metadata": {},
   "outputs": [],
   "source": [
    "heap = myheap([2,3,4,1,9,4,7,4])"
   ]
  },
  {
   "cell_type": "code",
   "execution_count": 37,
   "metadata": {},
   "outputs": [
    {
     "data": {
      "text/plain": [
       "[9, 4, 7, 2, 3, 4, 4, 1]"
      ]
     },
     "execution_count": 37,
     "metadata": {},
     "output_type": "execute_result"
    }
   ],
   "source": [
    "heap.data"
   ]
  },
  {
   "cell_type": "code",
   "execution_count": 38,
   "metadata": {},
   "outputs": [
    {
     "name": "stdout",
     "output_type": "stream",
     "text": [
      "parent = 3\n",
      "parent = 4\n",
      "parent = 1\n",
      "parent = 0\n",
      "parent = -1\n",
      "parent = 4\n",
      "parent = 1\n",
      "parent = 0\n",
      "parent = 5\n",
      "parent = 2\n"
     ]
    },
    {
     "data": {
      "text/plain": [
       "[19, 12, 7, 2, 9, 7, 4, 1, 2, 3, 4, 4]"
      ]
     },
     "execution_count": 38,
     "metadata": {},
     "output_type": "execute_result"
    }
   ],
   "source": [
    "heap.push(2)\n",
    "heap.push(19)\n",
    "heap.push(12)\n",
    "heap.push(7)\n",
    "heap.data"
   ]
  },
  {
   "cell_type": "code",
   "execution_count": 31,
   "metadata": {},
   "outputs": [
    {
     "name": "stdout",
     "output_type": "stream",
     "text": [
      "7\n",
      "4\n",
      "4\n",
      "4\n",
      "3\n",
      "2\n",
      "1\n"
     ]
    }
   ],
   "source": [
    "while len(heap.data) > 0:\n",
    "    print(heap.pop())"
   ]
  },
  {
   "cell_type": "code",
   "execution_count": 32,
   "metadata": {},
   "outputs": [
    {
     "data": {
      "text/plain": [
       "[]"
      ]
     },
     "execution_count": 32,
     "metadata": {},
     "output_type": "execute_result"
    }
   ],
   "source": [
    "heap.data"
   ]
  },
  {
   "cell_type": "code",
   "execution_count": null,
   "metadata": {},
   "outputs": [],
   "source": []
  }
 ],
 "metadata": {
  "kernelspec": {
   "display_name": "azureml_py38_PT_and_TF",
   "language": "python",
   "name": "python3"
  },
  "language_info": {
   "codemirror_mode": {
    "name": "ipython",
    "version": 3
   },
   "file_extension": ".py",
   "mimetype": "text/x-python",
   "name": "python",
   "nbconvert_exporter": "python",
   "pygments_lexer": "ipython3",
   "version": "3.8.5"
  }
 },
 "nbformat": 4,
 "nbformat_minor": 2
}
