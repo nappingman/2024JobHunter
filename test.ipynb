{
 "cells": [
  {
   "cell_type": "code",
   "execution_count": null,
   "metadata": {},
   "outputs": [],
   "source": [
    "import torch\n",
    "import torch.nn.functional as F\n",
    "\n",
    "def softmax(v):\n",
    "    # v -= v.max()\n",
    "    ret = torch.exp(v) / torch.exp(v).sum()\n",
    "    return ret\n",
    "\n",
    "def sigmoid(v):\n",
    "    return 1 / (1 + torch.exp(-v))\n",
    "\n",
    "def silu(v):\n",
    "    return v * sigmoid(v)"
   ]
  },
  {
   "cell_type": "code",
   "execution_count": null,
   "metadata": {},
   "outputs": [],
   "source": [
    "v = torch.randn([1, 10])\n",
    "print(softmax(v), F.softmax(v, dim=1))\n",
    "print(sigmoid(v), F.sigmoid(v)) # sigmoid is deprecated\n",
    "print(silu(v), F.silu(v)) # silu is deprecated"
   ]
  },
  {
   "cell_type": "code",
   "execution_count": null,
   "metadata": {},
   "outputs": [],
   "source": [
    "def scaled_dot_product_attention(q, k, v, mask=None, is_causal=False):\n",
    "    B, L, D = q.shape\n",
    "    attn_bias = torch.zeros(L, D, dtype=q.dtype)\n",
    "    if is_causal:\n",
    "        assert mask is None\n",
    "        temp_mask = torch.ones(L, D, dtype=torch.bool).tril(diagonal=0)\n",
    "        attn_bias = attn_bias.masked_fill(temp_mask, float(\"-inf\"))\n",
    "        attn_bias.to(q.dtype)\n",
    "        \n",
    "    if mask is not None:\n",
    "        if mask.dtype == torch.bool:\n",
    "            attn_score = attn_score.masked_fill(mask==0, float(\"-inf\"))\n",
    "        else:\n",
    "            attn_bias += mask\n",
    "    attn_score = q @ k.transpose(-2, -1) / (D ** 0.5)\n",
    "    attn_score += attn_bias\n",
    "    attn_score = torch.softmax(attn_score, dim=-1)\n",
    "    output = attn_score @ v\n",
    "    return output, attn_score"
   ]
  },
  {
   "cell_type": "code",
   "execution_count": null,
   "metadata": {},
   "outputs": [],
   "source": [
    "class myBN:\n",
    "    def __init__(self, num_features, eps=1e-5, momentum=0.1):\n",
    "        self.num_features = num_features\n",
    "        self.eps = eps\n",
    "        self.momentum = momentum\n",
    "        \n",
    "        self.gamma = torch.nn.Parameter(torch.ones(num_features))\n",
    "        self.beta = torch.nn.Parameter(torch.zeros(num_features))\n",
    "        \n",
    "        self.register_buffer('running_mean', torch.zeros(num_features))\n",
    "        self.register_buffer('running_var', torch.ones(num_features))\n",
    "    def forward(self, x, train=True):\n",
    "        # assume x is of shape (B, C, H, W)\n",
    "        # if group norm, reshape x to (B, Groups, C//Groups, H, W), and means on dimension 2, 3, 4\n",
    "        if train:\n",
    "            mean = x.mean(dim=0) # dim=0 for batch norm, -1 for layer norm, 2,3 for instance norm\n",
    "            var = x.var(dim=0)\n",
    "\n",
    "            self.running_mean.data = (1-self.momentum) * self.running_mean + self.momentum * mean\n",
    "            self.running_var.data = (1-self.momentum) * self.running_var + self.momentum * var\n",
    "        else:\n",
    "            mean = self.running_mean\n",
    "            var = self.running_var\n",
    "\n",
    "        x_ = (x-mean) / torch.sqrt(var+self.eps)\n",
    "        x_ = self.gamma * x_ + self.beta\n",
    "\n",
    "\n",
    "        return x_"
   ]
  },
  {
   "cell_type": "code",
   "execution_count": null,
   "metadata": {},
   "outputs": [],
   "source": [
    "import torch\n",
    "import torch.nn as nn\n",
    "# Example of target with class indices\n",
    "loss = nn.CrossEntropyLoss()\n",
    "input = torch.randn(3, 5, requires_grad=True)\n",
    "target = torch.empty(3, dtype=torch.long).random_(5)\n",
    "output = loss(input, target)\n",
    "# output.backward()\n",
    "# # Example of target with class probabilities\n",
    "# input = torch.randn(3, 5, requires_grad=True)\n",
    "# target = torch.randn(3, 5).softmax(dim=1)\n",
    "# output = loss(input, target)\n",
    "# output.backward()"
   ]
  },
  {
   "cell_type": "code",
   "execution_count": null,
   "metadata": {},
   "outputs": [],
   "source": [
    "import torch\n",
    "import numpy as np\n",
    "relative_coords_h = torch.arange(-(3 - 1), 3, dtype=torch.float32)\n",
    "relative_coords_w = torch.arange(-(3 - 1), 3, dtype=torch.float32)\n",
    "relative_coords_table = torch.stack(\n",
    "    torch.meshgrid([relative_coords_h,\n",
    "                    relative_coords_w])).permute(1, 2, 0).contiguous().unsqueeze(0)  # 1, 2*Wh-1, 2*Ww-1, 2\n",
    "relative_coords_table[:, :, :, 0] /= (3 - 1)\n",
    "relative_coords_table[:, :, :, 1] /= (3 - 1)\n",
    "relative_coords_table *= 4  # normalize to -8, 8\n",
    "relative_coords_table = torch.sign(relative_coords_table) * torch.log2(\n",
    "    torch.abs(relative_coords_table) + 1.0) / np.log2(8)"
   ]
  },
  {
   "cell_type": "code",
   "execution_count": null,
   "metadata": {},
   "outputs": [],
   "source": [
    "relative_coords_table[0,2,3]"
   ]
  },
  {
   "cell_type": "code",
   "execution_count": null,
   "metadata": {},
   "outputs": [],
   "source": [
    "tmp = torch.Tensor([-1, 1])\n",
    "torch.sign(tmp) * torch.log2(\n",
    "    torch.abs(tmp) + 1.0) / np.log2(8)"
   ]
  },
  {
   "cell_type": "code",
   "execution_count": null,
   "metadata": {},
   "outputs": [],
   "source": [
    "tmp = torch.Tensor([1, -1])\n",
    "torch.sign(tmp) * torch.log2(\n",
    "    torch.abs(tmp) + 1.0) / np.log2(8)"
   ]
  },
  {
   "cell_type": "code",
   "execution_count": null,
   "metadata": {},
   "outputs": [],
   "source": [
    "coords_h = torch.arange(3)\n",
    "coords_w = torch.arange(3)\n",
    "coords = torch.stack(torch.meshgrid([coords_h, coords_w]))  # 2, Wh, Ww\n",
    "coords_flatten = torch.flatten(coords, 1)  # 2, Wh*Ww\n",
    "relative_coords = coords_flatten[:, :, None] - coords_flatten[:, None, :]  # 2, Wh*Ww, Wh*Ww\n",
    "relative_coords = relative_coords.permute(1, 2, 0).contiguous()  # Wh*Ww, Wh*Ww, 2\n",
    "relative_coords[:, :, 0] += 3 - 1  # shift to start from 0\n",
    "relative_coords[:, :, 1] += 3 - 1\n",
    "relative_coords[:, :, 0] *= 2 * 3 - 1\n",
    "relative_position_index = relative_coords.sum(-1)  # Wh*Ww, Wh*Ww"
   ]
  },
  {
   "cell_type": "code",
   "execution_count": null,
   "metadata": {},
   "outputs": [],
   "source": [
    "import math\n",
    "import torch\n",
    "def scale_dot_product_attention(query, key, value, attn_mask=None, is_causal=False, dropout_p=0.0, scale=None):\n",
    "    L, S = query.size(-2), key.size(-2)\n",
    "    scale_factor = 1 / math.sqrt(query.size(-1)) if scale is None else scale\n",
    "    attn_bias = torch.zeros(L, S, dtype=query.dtype)\n",
    "    if is_causal:\n",
    "        assert attn_mask is None\n",
    "        temp_mask = torch.ones(L, S, dtype=torch.bool).tril(diagonal=0)\n",
    "        attn_bias.masked_fill_(temp_mask.logical_not(), float(\"-inf\"))\n",
    "        attn_bias.to(query.dtype)\n",
    "    \n",
    "    if attn_mask is not None:\n",
    "        if attn_mask.dtype == torch.bool:\n",
    "            attn_mask.masked_fill_(attn_mask.logic_not(), float(\"-inf\"))\n",
    "        else:\n",
    "            attn_bias += attn_mask\n",
    "    \n",
    "    attn_weight = query @ key.transpose(-2, -1) * scale_factor\n",
    "    attn_weight += attn_bias\n",
    "    attn_weight = torch.softmax(attn_weight, dim=-1)\n",
    "    attn_weight = torch.dropout(attn_weight, dropout_p, train=True)\n",
    "    return attn_weight @ value"
   ]
  }
 ],
 "metadata": {
  "kernelspec": {
   "display_name": "azureml_py38_PT_and_TF",
   "language": "python",
   "name": "python3"
  },
  "language_info": {
   "codemirror_mode": {
    "name": "ipython",
    "version": 3
   },
   "file_extension": ".py",
   "mimetype": "text/x-python",
   "name": "python",
   "nbconvert_exporter": "python",
   "pygments_lexer": "ipython3",
   "version": "3.8.5"
  }
 },
 "nbformat": 4,
 "nbformat_minor": 2
}
