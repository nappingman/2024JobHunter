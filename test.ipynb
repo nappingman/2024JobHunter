{
 "cells": [
  {
   "cell_type": "code",
   "execution_count": null,
   "metadata": {},
   "outputs": [],
   "source": [
    "import torch\n",
    "import torch.nn.functional as F\n",
    "\n",
    "def softmax(v):\n",
    "    # v -= v.max()\n",
    "    ret = torch.exp(v) / torch.exp(v).sum()\n",
    "    return ret\n",
    "\n",
    "def sigmoid(v):\n",
    "    return 1 / (1 + torch.exp(-v))\n",
    "\n",
    "def silu(v):\n",
    "    return v * sigmoid(v)"
   ]
  },
  {
   "cell_type": "code",
   "execution_count": null,
   "metadata": {},
   "outputs": [],
   "source": [
    "v = torch.randn([1, 10])\n",
    "print(softmax(v), F.softmax(v, dim=1))\n",
    "print(sigmoid(v), F.sigmoid(v)) # sigmoid is deprecated\n",
    "print(silu(v), F.silu(v)) # silu is deprecated"
   ]
  },
  {
   "cell_type": "code",
   "execution_count": null,
   "metadata": {},
   "outputs": [],
   "source": [
    "def scaled_dot_product_attention(q, k, v, mask=None, is_causal=False):\n",
    "    B, L, D = q.shape\n",
    "    attn_score = q @ k.transpose(-2, -1) / (D ** 0.5)\n",
    "    attn_bias = torch.zeros(L, D, dtype=q.dtype)\n",
    "    if is_causal:\n",
    "        assert mask is None\n",
    "        temp_mask = torch.ones(L, D, dtype=torch.bool).tril(diagonal=0)\n",
    "        attn_bias = attn_bias.masked_fill(temp_mask, float(\"-inf\"))\n",
    "        attn_bias.to(q.dtype)\n",
    "        \n",
    "    if mask is not None:\n",
    "        if mask.dtype == torch.bool:\n",
    "            attn_score = attn_score.masked_fill(mask==0, float(\"-inf\"))\n",
    "        else:\n",
    "            attn_bias += mask\n",
    "    attn_score = F.softmax(attn_score, dim=-1)\n",
    "    output = attn_score @ v\n",
    "    return output, attn_score"
   ]
  },
  {
   "cell_type": "code",
   "execution_count": null,
   "metadata": {},
   "outputs": [],
   "source": [
    "class myBN:\n",
    "    def __init__(self, num_features, eps=1e-5, momentum=0.1):\n",
    "        self.num_features = num_features\n",
    "        self.eps = eps\n",
    "        self.momentum = momentum\n",
    "        \n",
    "        self.gamma = torch.nn.Parameter(torch.ones(num_features))\n",
    "        self.beta = torch.nn.Parameter(torch.zeros(num_features))\n",
    "        \n",
    "        self.register_buffer('running_mean', torch.zeors(num_features))\n",
    "        self.register_buffer('running_var', torch.ones(num_features))\n",
    "    def forward(self, x, train=True):\n",
    "        if train:\n",
    "            mean = x.mean(dim=0) # dim=0 for batch norm, -1 for layer norm\n",
    "            var = x.var(dim=0)\n",
    "\n",
    "            self.running_mean = (1-self.momentum) * self.running_mean + self.momentum * mean\n",
    "            self.running_var = (1-self.momentum) * self.running_var + self.momentum * var\n",
    "        else:\n",
    "            mean = self.running_mean\n",
    "            var = self.running_var\n",
    "\n",
    "        x_ = (x-mean) / torch.sqrt(var+self.eps)\n",
    "        x_ = self.gamma * x_ + self.beta\n",
    "\n",
    "\n",
    "        return x_"
   ]
  },
  {
   "cell_type": "code",
   "execution_count": 1,
   "metadata": {},
   "outputs": [],
   "source": [
    "import torch\n",
    "x=torch.randn([4,2,3])"
   ]
  },
  {
   "cell_type": "code",
   "execution_count": 4,
   "metadata": {},
   "outputs": [
    {
     "data": {
      "text/plain": [
       "tensor(0.9568)"
      ]
     },
     "execution_count": 4,
     "metadata": {},
     "output_type": "execute_result"
    }
   ],
   "source": [
    "x.var().sqrt()"
   ]
  },
  {
   "cell_type": "code",
   "execution_count": null,
   "metadata": {},
   "outputs": [],
   "source": []
  }
 ],
 "metadata": {
  "kernelspec": {
   "display_name": "azureml_py38_PT_and_TF",
   "language": "python",
   "name": "python3"
  },
  "language_info": {
   "codemirror_mode": {
    "name": "ipython",
    "version": 3
   },
   "file_extension": ".py",
   "mimetype": "text/x-python",
   "name": "python",
   "nbconvert_exporter": "python",
   "pygments_lexer": "ipython3",
   "version": "3.8.5"
  }
 },
 "nbformat": 4,
 "nbformat_minor": 2
}
